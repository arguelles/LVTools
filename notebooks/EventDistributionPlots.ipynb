{
 "cells": [
  {
   "cell_type": "code",
   "execution_count": 1,
   "metadata": {
    "code_folding": [
     0
    ],
    "collapsed": false
   },
   "outputs": [],
   "source": [
    "# basics\n",
    "%matplotlib inline\n",
    "import matplotlib.pyplot as plt\n",
    "import matplotlib as mpl\n",
    "import tables\n",
    "from matplotlib import rc, rcParams\n",
    "import numpy as np\n",
    "rc('text',usetex=True)\n",
    "rc('font',**{'family':'serif','serif':['Computer Modern'], 'size' : 18})\n",
    "cols = ['#29A2C6','#FF6D31','#FFCB18','#73B66B','#EF597B', '#333333']"
   ]
  },
  {
   "cell_type": "markdown",
   "metadata": {},
   "source": [
    "## Make Histograms to compare Data MC"
   ]
  },
  {
   "cell_type": "code",
   "execution_count": 26,
   "metadata": {
    "collapsed": false
   },
   "outputs": [],
   "source": [
    "costh_edges = np.array([-1. , -0.9, -0.8, -0.7, -0.6, -0.5, -0.4, -0.3, -0.2, -0.1,  0. ,0.1])\n",
    "energy_proxy_edges = np.array([  1.00000000e+02,   1.25892541e+02,   1.58489319e+02,\n",
    "                                 1.99526231e+02,   2.51188643e+02,   3.16227766e+02,\n",
    "                                 3.98107171e+02,   5.01187234e+02,   6.30957344e+02,\n",
    "                                 7.94328235e+02,   1.00000000e+03,   1.25892541e+03,\n",
    "                                 1.58489319e+03,   1.99526231e+03,   2.51188643e+03,\n",
    "                                 3.16227766e+03,   3.98107171e+03,   5.01187234e+03,\n",
    "                                 6.30957344e+03,   7.94328235e+03,   1.00000000e+04,\n",
    "                                 1.25892541e+04,   1.58489319e+04,   1.99526231e+04,\n",
    "                                 2.51188643e+04,   3.16227766e+04,   3.98107171e+04,\n",
    "                                 5.01187234e+04,   6.30957344e+04,   7.94328235e+04,\n",
    "                                 1.00000000e+05,   1.25892541e+05,   1.58489319e+05,\n",
    "                                 1.99526231e+05,   2.51188643e+05,   3.16227766e+05,\n",
    "                                 3.98107171e+05,   5.01187234e+05,   6.30957344e+05,\n",
    "                                 7.94328235e+05,   1.00000000e+06,   1.25892541e+06,\n",
    "                                 1.58489319e+06,   1.99526231e+06,   2.51188643e+06,\n",
    "                                 3.16227766e+06,   3.98107171e+06,   5.01187234e+06,\n",
    "                                 6.30957344e+06,   7.94328235e+06,   1.00000000e+07])"
   ]
  },
  {
   "cell_type": "code",
   "execution_count": 27,
   "metadata": {
    "collapsed": false
   },
   "outputs": [],
   "source": [
    "data = np.genfromtxt(\"../../IC86OfficialRelease/simple_corrected_data_release.dat\")"
   ]
  },
  {
   "cell_type": "code",
   "execution_count": 28,
   "metadata": {
    "collapsed": false
   },
   "outputs": [],
   "source": [
    "expectation = np.genfromtxt(\"../expectation/nusquids_flux_expectation.dat\")\n",
    "#expectation = np.genfromtxt(\"../expectation/chris_flux_expectation.dat\")"
   ]
  },
  {
   "cell_type": "code",
   "execution_count": 33,
   "metadata": {
    "collapsed": false,
    "scrolled": false
   },
   "outputs": [
    {
     "data": {
      "text/plain": [
       "<matplotlib.text.Text at 0x111312e90>"
      ]
     },
     "execution_count": 33,
     "metadata": {},
     "output_type": "execute_result"
    },
    {
     "data": {
      "image/png": "[encoded data removed]",
      "text/plain": [
       "<matplotlib.figure.Figure at 0x111350190>"
      ]
     },
     "metadata": {},
     "output_type": "display_data"
    }
   ],
   "source": [
    "plt.figure(figsize = (8,6))\n",
    "plt.hist(data[:,0], bins = energy_proxy_edges, \n",
    "         histtype='step', lw = 2, color = \"blue\", label = \"data\")\n",
    "plt.hist(expectation[:,0], bins = energy_proxy_edges, weights = expectation[:,-1]*2.,\n",
    "         histtype='step', lw = 2, color = \"green\", label = \"mc\")\n",
    "plt.legend(bbox_to_anchor=(1.05, 1), loc=2, borderaxespad=0.)\n",
    "plt.loglog()\n",
    "plt.ylim(1,1.0e4)\n",
    "plt.xlabel(\"Energy proxy\")\n",
    "plt.ylabel(\"Events per bin\")"
   ]
  },
  {
   "cell_type": "code",
   "execution_count": 32,
   "metadata": {
    "collapsed": false
   },
   "outputs": [
    {
     "data": {
      "text/plain": [
       "<matplotlib.text.Text at 0x111074c50>"
      ]
     },
     "execution_count": 32,
     "metadata": {},
     "output_type": "execute_result"
    },
    {
     "data": {
      "image/png": "[encoded data removed]",
      "text/plain": [
       "<matplotlib.figure.Figure at 0x1110a5e10>"
      ]
     },
     "metadata": {},
     "output_type": "display_data"
    }
   ],
   "source": [
    "plt.figure(figsize = (8,6))\n",
    "plt.hist(data[:,1], bins = costh_edges, \n",
    "         histtype='step', lw = 2, color = \"blue\", label = \"data\")\n",
    "plt.hist(expectation[:,1], bins = costh_edges, weights = expectation[:,-1]*2,\n",
    "         histtype='step', lw = 2, color = \"green\", label = \"mc\")\n",
    "plt.legend(bbox_to_anchor=(1.05, 1), loc=2, borderaxespad=0.)\n",
    "plt.xlabel(\"cos(th)\")\n",
    "plt.ylabel(\"Events per bin\")"
   ]
  },
  {
   "cell_type": "markdown",
   "metadata": {
    "collapsed": true,
    "heading_collapsed": true
   },
   "source": [
    "## Compare nuSQuIDS Flux versus Chris-given Flux"
   ]
  },
  {
   "cell_type": "code",
   "execution_count": 2,
   "metadata": {
    "collapsed": true,
    "hidden": true
   },
   "outputs": [],
   "source": [
    "import nuSQUIDSpy as nsq\n",
    "import tables\n",
    "import scipy.interpolate as interpolate\n",
    "import scipy.integrate as integrate"
   ]
  },
  {
   "cell_type": "code",
   "execution_count": 3,
   "metadata": {
    "collapsed": false,
    "hidden": true
   },
   "outputs": [],
   "source": [
    "kaon = nsq.nuSQUIDSAtm(\"../nusquids_fluxes/nusquids_kaon_HondaGaisser.hdf5\")"
   ]
  },
  {
   "cell_type": "code",
   "execution_count": 4,
   "metadata": {
    "collapsed": true,
    "hidden": true
   },
   "outputs": [],
   "source": [
    "pion = nsq.nuSQUIDSAtm(\"../nusquids_fluxes/nusquids_pion_HondaGaisser.hdf5\")"
   ]
  },
  {
   "cell_type": "code",
   "execution_count": 5,
   "metadata": {
    "collapsed": false,
    "hidden": true
   },
   "outputs": [],
   "source": [
    "kaon_flux = np.array([ kaon.EvalFlavor(1,-1,EE,0) for EE in kaon.GetERange()])\n",
    "pion_flux = np.array([ pion.EvalFlavor(1,-1,EE,0) for EE in kaon.GetERange()])\n",
    "flux = kaon_flux*1.2+pion_flux"
   ]
  },
  {
   "cell_type": "code",
   "execution_count": 6,
   "metadata": {
    "collapsed": false,
    "hidden": true
   },
   "outputs": [
    {
     "data": {
      "text/plain": [
       "[]"
      ]
     },
     "execution_count": 6,
     "metadata": {},
     "output_type": "execute_result"
    },
    {
     "data": {
      "image/png": "[encoded data removed]",
      "text/plain": [
       "<matplotlib.figure.Figure at 0x10ee55e50>"
      ]
     },
     "metadata": {},
     "output_type": "display_data"
    }
   ],
   "source": [
    "plt.plot(kaon.GetERange(),flux)\n",
    "plt.loglog()"
   ]
  },
  {
   "cell_type": "code",
   "execution_count": 7,
   "metadata": {
    "collapsed": false,
    "hidden": true
   },
   "outputs": [],
   "source": [
    "# weaver flux\n",
    "weaver_flux = tables.open_file(\"../conventional_flux.h5\", driver=\"H5FD_CORE\")"
   ]
  },
  {
   "cell_type": "code",
   "execution_count": 8,
   "metadata": {
    "collapsed": false,
    "hidden": true
   },
   "outputs": [
    {
     "data": {
      "text/plain": [
       "1.4140311346582058e-07"
      ]
     },
     "execution_count": 8,
     "metadata": {},
     "output_type": "execute_result"
    }
   ],
   "source": [
    "weaver_flux.root.nu_mu.integrated_flux[:,0][0]"
   ]
  },
  {
   "cell_type": "code",
   "execution_count": 25,
   "metadata": {
    "collapsed": false,
    "hidden": true
   },
   "outputs": [
    {
     "data": {
      "text/plain": [
       "0.6283185307179586"
      ]
     },
     "execution_count": 25,
     "metadata": {},
     "output_type": "execute_result"
    }
   ],
   "source": [
    "2.*np.pi*0.1"
   ]
  },
  {
   "cell_type": "code",
   "execution_count": 11,
   "metadata": {
    "collapsed": false,
    "hidden": true
   },
   "outputs": [],
   "source": [
    "e_edges = weaver_flux.root.nu_mu.bin_edges_0[:]\n",
    "integrated_fluxes = 2.*np.pi*0.1*np.array([integrate.quad(interpolate.interp1d(kaon.GetERange()/1.0e9,flux),e_edges[i],e_edges[i+1]) for i in range(0,60)]) "
   ]
  },
  {
   "cell_type": "code",
   "execution_count": 12,
   "metadata": {
    "collapsed": false,
    "hidden": true
   },
   "outputs": [
    {
     "data": {
      "text/plain": [
       "[<matplotlib.lines.Line2D at 0x10f58a090>]"
      ]
     },
     "execution_count": 12,
     "metadata": {},
     "output_type": "execute_result"
    },
    {
     "data": {
      "image/png": "[encoded data removed]",
      "text/plain": [
       "<matplotlib.figure.Figure at 0x10f5f4210>"
      ]
     },
     "metadata": {},
     "output_type": "display_data"
    }
   ],
   "source": [
    "plt.plot(weaver_flux.root.nu_mu.bin_edges_0[0:60],\n",
    "         weaver_flux.root.nu_mu.integrated_flux[:,0][0:60]/integrated_fluxes[:,0])"
   ]
  },
  {
   "cell_type": "code",
   "execution_count": 21,
   "metadata": {
    "collapsed": false,
    "hidden": true
   },
   "outputs": [
    {
     "data": {
      "text/plain": [
       "array([-1. , -0.9, -0.8, -0.7, -0.6, -0.5, -0.4, -0.3, -0.2, -0.1,  0. ,\n",
       "        0.1])"
      ]
     },
     "execution_count": 21,
     "metadata": {},
     "output_type": "execute_result"
    }
   ],
   "source": [
    "weaver_flux.root.nu_mu.bin_edges_1[:]"
   ]
  },
  {
   "cell_type": "code",
   "execution_count": 27,
   "metadata": {
    "collapsed": false,
    "hidden": true
   },
   "outputs": [
    {
     "data": {
      "text/plain": [
       "array([  1.00000000e+02,   1.05925373e+02,   1.12201845e+02,\n",
       "         1.18850223e+02,   1.25892541e+02,   1.33352143e+02,\n",
       "         1.41253754e+02,   1.49623566e+02,   1.58489319e+02,\n",
       "         1.67880402e+02,   1.77827941e+02,   1.88364909e+02,\n",
       "         1.99526231e+02,   2.11348904e+02,   2.23872114e+02,\n",
       "         2.37137371e+02,   2.51188643e+02,   2.66072506e+02,\n",
       "         2.81838293e+02,   2.98538262e+02,   3.16227766e+02,\n",
       "         3.34965439e+02,   3.54813389e+02,   3.75837404e+02,\n",
       "         3.98107171e+02,   4.21696503e+02,   4.46683592e+02,\n",
       "         4.73151259e+02,   5.01187234e+02,   5.30884444e+02,\n",
       "         5.62341325e+02,   5.95662144e+02,   6.30957344e+02,\n",
       "         6.68343918e+02,   7.07945784e+02,   7.49894209e+02,\n",
       "         7.94328235e+02,   8.41395142e+02,   8.91250938e+02,\n",
       "         9.44060876e+02,   1.00000000e+03,   1.05925373e+03,\n",
       "         1.12201845e+03,   1.18850223e+03,   1.25892541e+03,\n",
       "         1.33352143e+03,   1.41253754e+03,   1.49623566e+03,\n",
       "         1.58489319e+03,   1.67880402e+03,   1.77827941e+03,\n",
       "         1.88364909e+03,   1.99526231e+03,   2.11348904e+03,\n",
       "         2.23872114e+03,   2.37137371e+03,   2.51188643e+03,\n",
       "         2.66072506e+03,   2.81838293e+03,   2.98538262e+03,\n",
       "         3.16227766e+03,   3.34965439e+03,   3.54813389e+03,\n",
       "         3.75837404e+03,   3.98107171e+03,   4.21696503e+03,\n",
       "         4.46683592e+03,   4.73151259e+03,   5.01187234e+03,\n",
       "         5.30884444e+03,   5.62341325e+03,   5.95662144e+03,\n",
       "         6.30957344e+03,   6.68343918e+03,   7.07945784e+03,\n",
       "         7.49894209e+03,   7.94328235e+03,   8.41395142e+03,\n",
       "         8.91250938e+03,   9.44060876e+03,   1.00000000e+04,\n",
       "         1.05925373e+04,   1.12201845e+04,   1.18850223e+04,\n",
       "         1.25892541e+04,   1.33352143e+04,   1.41253754e+04,\n",
       "         1.49623566e+04,   1.58489319e+04,   1.67880402e+04,\n",
       "         1.77827941e+04,   1.88364909e+04,   1.99526231e+04,\n",
       "         2.11348904e+04,   2.23872114e+04,   2.37137371e+04,\n",
       "         2.51188643e+04,   2.66072506e+04,   2.81838293e+04,\n",
       "         2.98538262e+04,   3.16227766e+04,   3.34965439e+04,\n",
       "         3.54813389e+04,   3.75837404e+04,   3.98107171e+04,\n",
       "         4.21696503e+04,   4.46683592e+04,   4.73151259e+04,\n",
       "         5.01187234e+04,   5.30884444e+04,   5.62341325e+04,\n",
       "         5.95662144e+04,   6.30957344e+04,   6.68343918e+04,\n",
       "         7.07945784e+04,   7.49894209e+04,   7.94328235e+04,\n",
       "         8.41395142e+04,   8.91250938e+04,   9.44060876e+04,\n",
       "         1.00000000e+05,   1.05925373e+05,   1.12201845e+05,\n",
       "         1.18850223e+05,   1.25892541e+05,   1.33352143e+05,\n",
       "         1.41253754e+05,   1.49623566e+05,   1.58489319e+05,\n",
       "         1.67880402e+05,   1.77827941e+05,   1.88364909e+05,\n",
       "         1.99526231e+05,   2.11348904e+05,   2.23872114e+05,\n",
       "         2.37137371e+05,   2.51188643e+05,   2.66072506e+05,\n",
       "         2.81838293e+05,   2.98538262e+05,   3.16227766e+05,\n",
       "         3.34965439e+05,   3.54813389e+05,   3.75837404e+05,\n",
       "         3.98107171e+05,   4.21696503e+05,   4.46683592e+05,\n",
       "         4.73151259e+05,   5.01187234e+05,   5.30884444e+05,\n",
       "         5.62341325e+05,   5.95662144e+05,   6.30957344e+05,\n",
       "         6.68343918e+05,   7.07945784e+05,   7.49894209e+05,\n",
       "         7.94328235e+05,   8.41395142e+05,   8.91250938e+05,\n",
       "         9.44060876e+05,   1.00000000e+06,   1.05925373e+06,\n",
       "         1.12201845e+06,   1.18850223e+06,   1.25892541e+06,\n",
       "         1.33352143e+06,   1.41253754e+06,   1.49623566e+06,\n",
       "         1.58489319e+06,   1.67880402e+06,   1.77827941e+06,\n",
       "         1.88364909e+06,   1.99526231e+06,   2.11348904e+06,\n",
       "         2.23872114e+06,   2.37137371e+06,   2.51188643e+06,\n",
       "         2.66072506e+06,   2.81838293e+06,   2.98538262e+06,\n",
       "         3.16227766e+06,   3.34965439e+06,   3.54813389e+06,\n",
       "         3.75837404e+06,   3.98107171e+06,   4.21696503e+06,\n",
       "         4.46683592e+06,   4.73151259e+06,   5.01187234e+06,\n",
       "         5.30884444e+06,   5.62341325e+06,   5.95662144e+06,\n",
       "         6.30957344e+06,   6.68343918e+06,   7.07945784e+06,\n",
       "         7.49894209e+06,   7.94328235e+06,   8.41395142e+06,\n",
       "         8.91250938e+06,   9.44060876e+06,   1.00000000e+07,\n",
       "         1.05925373e+07,   1.12201845e+07,   1.18850223e+07,\n",
       "         1.25892541e+07,   1.33352143e+07,   1.41253754e+07,\n",
       "         1.49623566e+07,   1.58489319e+07,   1.67880402e+07,\n",
       "         1.77827941e+07,   1.88364909e+07,   1.99526231e+07,\n",
       "         2.11348904e+07,   2.23872114e+07,   2.37137371e+07,\n",
       "         2.51188643e+07,   2.66072506e+07,   2.81838293e+07,\n",
       "         2.98538262e+07,   3.16227766e+07,   3.34965439e+07,\n",
       "         3.54813389e+07,   3.75837404e+07,   3.98107171e+07,\n",
       "         4.21696503e+07,   4.46683592e+07,   4.73151259e+07,\n",
       "         5.01187234e+07,   5.30884444e+07,   5.62341325e+07,\n",
       "         5.95662144e+07,   6.30957344e+07,   6.68343918e+07,\n",
       "         7.07945784e+07,   7.49894209e+07,   7.94328235e+07,\n",
       "         8.41395142e+07,   8.91250938e+07,   9.44060876e+07,\n",
       "         1.00000000e+08,   1.05925373e+08,   1.12201845e+08,\n",
       "         1.18850223e+08,   1.25892541e+08,   1.33352143e+08,\n",
       "         1.41253754e+08,   1.49623566e+08,   1.58489319e+08,\n",
       "         1.67880402e+08,   1.77827941e+08,   1.88364909e+08,\n",
       "         1.99526231e+08,   2.11348904e+08,   2.23872114e+08,\n",
       "         2.37137371e+08,   2.51188643e+08,   2.66072506e+08,\n",
       "         2.81838293e+08,   2.98538262e+08,   3.16227766e+08,\n",
       "         3.34965439e+08,   3.54813389e+08,   3.75837404e+08,\n",
       "         3.98107171e+08,   4.21696503e+08,   4.46683592e+08,\n",
       "         4.73151259e+08,   5.01187234e+08,   5.30884444e+08,\n",
       "         5.62341325e+08,   5.95662144e+08,   6.30957344e+08,\n",
       "         6.68343918e+08,   7.07945784e+08,   7.49894209e+08,\n",
       "         7.94328235e+08,   8.41395142e+08,   8.91250938e+08,\n",
       "         9.44060876e+08,   1.00000000e+09])"
      ]
     },
     "execution_count": 27,
     "metadata": {},
     "output_type": "execute_result"
    }
   ],
   "source": [
    "weaver_flux.root.nu_mu.bin_edges_0[:]"
   ]
  },
  {
   "cell_type": "code",
   "execution_count": null,
   "metadata": {
    "collapsed": true,
    "hidden": true
   },
   "outputs": [],
   "source": []
  }
 ],
 "metadata": {
  "kernelspec": {
   "display_name": "Python 2",
   "language": "python",
   "name": "python2"
  },
  "language_info": {
   "codemirror_mode": {
    "name": "ipython",
    "version": 2
   },
   "file_extension": ".py",
   "mimetype": "text/x-python",
   "name": "python",
   "nbconvert_exporter": "python",
   "pygments_lexer": "ipython2",
   "version": "2.7.10"
  }
 },
 "nbformat": 4,
 "nbformat_minor": 0
}
