{
 "cells": [
  {
   "cell_type": "code",
   "execution_count": 27,
   "metadata": {
    "code_folding": [],
    "collapsed": false
   },
   "outputs": [],
   "source": [
    "# basics\n",
    "%matplotlib inline\n",
    "import struct\n",
    "import matplotlib.pyplot as plt\n",
    "import matplotlib as mpl\n",
    "import tables\n",
    "from matplotlib import rc, rcParams\n",
    "import numpy as np\n",
    "rc('text',usetex=True)\n",
    "rc('font',**{'family':'serif','serif':['Computer Modern'], 'size' : 18})\n",
    "cols = ['#29A2C6','#FF6D31','#FFCB18','#73B66B','#EF597B', '#333333']"
   ]
  },
  {
   "cell_type": "code",
   "execution_count": 30,
   "metadata": {
    "collapsed": true
   },
   "outputs": [],
   "source": [
    "shape = (100,100)\n",
    "def read_bin(filename):\n",
    "    with open(filename, 'rb') as file:\n",
    "        data = struct.unpack('@' + str(np.prod(shape)) + 'd', file.read())\n",
    "        array = np.array(data).reshape(shape)\n",
    "        return array"
   ]
  },
  {
   "cell_type": "code",
   "execution_count": 73,
   "metadata": {
    "collapsed": false
   },
   "outputs": [],
   "source": [
    "c90= np.min(array)+4.61/2.\n",
    "c95= np.min(array)+6.1/2.\n",
    "c99= np.min(array)+9.21/2."
   ]
  },
  {
   "cell_type": "code",
   "execution_count": 74,
   "metadata": {
    "collapsed": false
   },
   "outputs": [
    {
     "data": {
      "image/png": "[encoded data removed]",
      "text/plain": [
       "<matplotlib.figure.Figure at 0x10bc9ec10>"
      ]
     },
     "metadata": {},
     "output_type": "display_data"
    }
   ],
   "source": [
    "import sys\n",
    "array = read_bin(\"../final.bin\")\n",
    "axisguy = []\n",
    "for i in range(100):\n",
    "    axisguy.append(np.power(10.,-28+6.*i/100.0))\n",
    "axisguy = np.log10(np.array(axisguy))\n",
    "\n",
    "import matplotlib.pyplot as plt\n",
    "plt.figure(figsize = (6,6))\n",
    "#plt.pcolor(array, cmap=plt.cm.Blues)\n",
    "plt.contourf(axisguy,axisguy,array,cmap=plt.cm.Blues, levels = [c90,200000],label = \"90%CL\")\n",
    "plt.contourf(axisguy,axisguy,array,cmap=plt.cm.Reds, levels = [c95,200000],label = \"99%CL\")\n",
    "#plt.colorbar(label=r\"-log\\mathcal{L}\")\n",
    "#plt.text(\"\")\n",
    "#plt.legend(loc=\"upper left\", fancybox=True, zorder = 1000)\n",
    "plt.xlabel(r\"$\\log_{10}{\\rm Re}(c_{\\mu\\tau})$\")\n",
    "plt.ylabel(r\"$\\log_{10}{\\rm Im}(c_{\\mu\\tau})$\")\n",
    "plt.savefig(\"preliminary_exclusion.png\",dpi = 600,bbox_inches='tight')"
   ]
  },
  {
   "cell_type": "markdown",
   "metadata": {},
   "source": [
    "## Make Histograms to compare Data MC"
   ]
  },
  {
   "cell_type": "code",
   "execution_count": 2,
   "metadata": {
    "code_folding": [
     0
    ],
    "collapsed": false
   },
   "outputs": [],
   "source": [
    "# define bins\n",
    "costh_edges = np.array([-1. , -0.9, -0.8, -0.7, -0.6, -0.5, -0.4, -0.3, -0.2, -0.1,  0. ,0.1])\n",
    "energy_proxy_edges = np.array([  1.00000000e+02,   1.25892541e+02,   1.58489319e+02,\n",
    "                                 1.99526231e+02,   2.51188643e+02,   3.16227766e+02,\n",
    "                                 3.98107171e+02,   5.01187234e+02,   6.30957344e+02,\n",
    "                                 7.94328235e+02,   1.00000000e+03,   1.25892541e+03,\n",
    "                                 1.58489319e+03,   1.99526231e+03,   2.51188643e+03,\n",
    "                                 3.16227766e+03,   3.98107171e+03,   5.01187234e+03,\n",
    "                                 6.30957344e+03,   7.94328235e+03,   1.00000000e+04,\n",
    "                                 1.25892541e+04,   1.58489319e+04,   1.99526231e+04,\n",
    "                                 2.51188643e+04,   3.16227766e+04,   3.98107171e+04,\n",
    "                                 5.01187234e+04,   6.30957344e+04,   7.94328235e+04,\n",
    "                                 1.00000000e+05,   1.25892541e+05,   1.58489319e+05,\n",
    "                                 1.99526231e+05,   2.51188643e+05,   3.16227766e+05,\n",
    "                                 3.98107171e+05,   5.01187234e+05,   6.30957344e+05,\n",
    "                                 7.94328235e+05,   1.00000000e+06,   1.25892541e+06,\n",
    "                                 1.58489319e+06,   1.99526231e+06,   2.51188643e+06,\n",
    "                                 3.16227766e+06,   3.98107171e+06,   5.01187234e+06,\n",
    "                                 6.30957344e+06,   7.94328235e+06,   1.00000000e+07])\n",
    "costh_centers = np.array([(costh_edges[i+1]+costh_edges[i])/2. for i in range(len(costh_edges)-1)])\n",
    "energy_proxy_centers = np.array([(energy_proxy_edges[i+1]+energy_proxy_edges[i])/2. for i in range(len(energy_proxy_edges)-1)])"
   ]
  },
  {
   "cell_type": "code",
   "execution_count": 3,
   "metadata": {
    "collapsed": false
   },
   "outputs": [],
   "source": [
    "data = np.genfromtxt(\"../../IC86OfficialRelease/simple_corrected_data_release.dat\")"
   ]
  },
  {
   "cell_type": "code",
   "execution_count": 20,
   "metadata": {
    "collapsed": false
   },
   "outputs": [],
   "source": [
    "#expectation = np.genfromtxt(\"../expectation/nusquids_flux_expectation.dat\")\n",
    "expectation = np.genfromtxt(\"../out.dat\")\n",
    "expectation = np.genfromtxt(\"../expectation.dat\")\n",
    "expectation24 = np.genfromtxt(\"../expectation_24_fixed.dat\")\n",
    "expectation26 = np.genfromtxt(\"../expectation_26_fixed.dat\")\n",
    "\n",
    "expectation_chris_given = np.genfromtxt(\"../expectation/chris_flux_expectation.dat\")"
   ]
  },
  {
   "cell_type": "code",
   "execution_count": 21,
   "metadata": {
    "collapsed": false
   },
   "outputs": [
    {
     "data": {
      "text/plain": [
       "<matplotlib.text.Text at 0x105fb7050>"
      ]
     },
     "execution_count": 21,
     "metadata": {},
     "output_type": "execute_result"
    },
    {
     "data": {
      "image/png": "[encoded data removed]",
      "text/plain": [
       "<matplotlib.figure.Figure at 0x106004890>"
      ]
     },
     "metadata": {},
     "output_type": "display_data"
    }
   ],
   "source": [
    "plt.figure(figsize = (8,6))\n",
    "obs,edges = np.histogram(data[:,0], bins = energy_proxy_edges)\n",
    "plt.errorbar(energy_proxy_centers, obs, yerr=np.sqrt(obs), fmt='o',\n",
    "         lw = 2, color = \"blue\", label = \"data\")\n",
    "plt.hist(expectation24[:,0], bins = energy_proxy_edges, weights = expectation24[:,-1],\n",
    "         histtype='step', lw = 2, color = \"green\", label = r\"$Re(c_{\\mu\\tau}) = 10^{-24}$\")\n",
    "plt.hist(expectation26[:,0], bins = energy_proxy_edges, weights = expectation26[:,-1],\n",
    "         histtype='step', lw = 2, color = \"red\", label = r\"$Re(c_{\\mu\\tau}) = 10^{-26}$\")\n",
    "\n",
    "plt.legend(loc = \"upper right\", fancybox = True)\n",
    "plt.loglog()\n",
    "\n",
    "plt.ylim(1,1.0e4)\n",
    "plt.xlabel(\"Energy proxy\")\n",
    "plt.ylabel(\"Events per bin\")"
   ]
  },
  {
   "cell_type": "code",
   "execution_count": 22,
   "metadata": {
    "collapsed": false
   },
   "outputs": [
    {
     "data": {
      "text/plain": [
       "(0, 8000)"
      ]
     },
     "execution_count": 22,
     "metadata": {},
     "output_type": "execute_result"
    },
    {
     "data": {
      "image/png": "[encoded data removed]",
      "text/plain": [
       "<matplotlib.figure.Figure at 0x106316410>"
      ]
     },
     "metadata": {},
     "output_type": "display_data"
    }
   ],
   "source": [
    "plt.figure(figsize = (8,6))\n",
    "obs,edges = np.histogram(data[:,1], bins = costh_edges)\n",
    "plt.errorbar(costh_centers, obs, yerr=np.sqrt(obs), fmt='o',\n",
    "         lw = 2, color = \"blue\", label = \"data\")\n",
    "plt.hist(expectation24[:,1], bins = costh_edges, weights = expectation24[:,-1],\n",
    "         histtype='step', lw = 2, color = \"green\", label = r\"$Re(c_{\\mu\\tau}) = 10^{-24}$\")\n",
    "plt.hist(expectation26[:,1], bins = costh_edges, weights = expectation26[:,-1],\n",
    "         histtype='step', lw = 2, color = \"red\", label = r\"$Re(c_{\\mu\\tau}) = 10^{-26}$\")\n",
    "\n",
    "#plt.legend(bbox_to_anchor=(1.05, 1), loc=2, borderaxespad=0.)\n",
    "plt.legend(loc='upper left', fancybox = True)\n",
    "plt.xlabel(r\"$\\cos(\\theta)$\")\n",
    "plt.ylabel(\"Events per bin\")\n",
    "plt.ylim(0,8000)"
   ]
  },
  {
   "cell_type": "code",
   "execution_count": 5,
   "metadata": {
    "collapsed": false,
    "scrolled": false
   },
   "outputs": [
    {
     "data": {
      "text/plain": [
       "<matplotlib.text.Text at 0x104b50b10>"
      ]
     },
     "execution_count": 5,
     "metadata": {},
     "output_type": "execute_result"
    },
    {
     "data": {
      "image/png": "[encoded data removed]",
      "text/plain": [
       "<matplotlib.figure.Figure at 0x1042c8c90>"
      ]
     },
     "metadata": {},
     "output_type": "display_data"
    }
   ],
   "source": [
    "plt.figure(figsize = (8,6))\n",
    "obs,edges = np.histogram(data[:,0], bins = energy_proxy_edges)\n",
    "plt.errorbar(energy_proxy_centers, obs, yerr=np.sqrt(obs), fmt='o',\n",
    "         lw = 2, color = \"blue\", label = \"data\")\n",
    "plt.hist(expectation[:,0], bins = energy_proxy_edges, weights = expectation[:,-1],\n",
    "         histtype='step', lw = 2, color = \"green\", label = r\"$Re(c_{\\mu\\tau}) = 10^{-24}$\")\n",
    "plt.hist(expectation_chris_given[:,0], bins = energy_proxy_edges, weights = expectation_chris_given[:,-1],\n",
    "         histtype='step', lw = 2, color = \"red\", ls = \"dashed\", label = \"mc-weaver\")\n",
    "plt.legend(bbox_to_anchor=(1.05, 1), loc=2, borderaxespad=0.)\n",
    "plt.loglog()\n",
    "plt.ylim(1,1.0e4)\n",
    "plt.xlabel(\"Energy proxy\")\n",
    "plt.ylabel(\"Events per bin\")"
   ]
  },
  {
   "cell_type": "code",
   "execution_count": 6,
   "metadata": {
    "collapsed": false
   },
   "outputs": [
    {
     "data": {
      "text/plain": [
       "(0, 8000)"
      ]
     },
     "execution_count": 6,
     "metadata": {},
     "output_type": "execute_result"
    },
    {
     "data": {
      "image/png": "[encoded data removed]",
      "text/plain": [
       "<matplotlib.figure.Figure at 0x1046c0690>"
      ]
     },
     "metadata": {},
     "output_type": "display_data"
    }
   ],
   "source": [
    "plt.figure(figsize = (8,6))\n",
    "obs,edges = np.histogram(data[:,1], bins = costh_edges)\n",
    "plt.errorbar(costh_centers, obs, yerr=np.sqrt(obs), fmt='o',\n",
    "         lw = 2, color = \"blue\", label = \"data\")\n",
    "plt.hist(expectation[:,1], bins = costh_edges, weights = expectation[:,-1],\n",
    "         histtype='step', lw = 2, color = \"green\", label = \"mc\")\n",
    "plt.hist(expectation_chris_given[:,1], bins = costh_edges, weights = expectation_chris_given[:,-1],\n",
    "         histtype='step', lw = 2, color = \"red\", ls = \"dashed\", label = \"mc-weaver\")\n",
    "plt.legend(bbox_to_anchor=(1.05, 1), loc=2, borderaxespad=0.)\n",
    "plt.xlabel(r\"$\\cos(\\theta)$\")\n",
    "plt.ylabel(\"Events per bin\")\n",
    "plt.ylim(0,8000)"
   ]
  },
  {
   "cell_type": "markdown",
   "metadata": {},
   "source": [
    "## Simple LLH Calculation"
   ]
  },
  {
   "cell_type": "code",
   "execution_count": 151,
   "metadata": {
    "code_folding": [],
    "collapsed": true
   },
   "outputs": [],
   "source": [
    "# stuff\n",
    "from scipy.stats import poisson,norm"
   ]
  },
  {
   "cell_type": "markdown",
   "metadata": {
    "heading_collapsed": true
   },
   "source": [
    "### Adding the years together"
   ]
  },
  {
   "cell_type": "markdown",
   "metadata": {},
   "source": [
    "### Adding the years together"
   ]
  },
  {
   "cell_type": "code",
   "execution_count": 142,
   "metadata": {
    "collapsed": true
   },
   "outputs": [],
   "source": [
    "expectation_fitted = np.genfromtxt(\"../expectation.dat\")"
   ]
  },
  {
   "cell_type": "code",
   "execution_count": 150,
   "metadata": {
    "collapsed": false
   },
   "outputs": [],
   "source": [
    "datahistogram,e1,e2 = np.histogram2d(data[:,0],data[:,1],\n",
    "                                     bins = [energy_proxy_edges,costh_edges])\n",
    "expectationhistogram,e1,e2 = np.histogram2d(expectation_fitted[:,0],expectation_fitted[:,1], \n",
    "                                            bins = [energy_proxy_edges,costh_edges], \n",
    "                                            weights = expectation_fitted[:,-1])"
   ]
  },
  {
   "cell_type": "code",
   "execution_count": 148,
   "metadata": {
    "collapsed": false
   },
   "outputs": [
    {
     "data": {
      "text/plain": [
       "array([ 2010.,  2010.,  2010., ...,  2011.,  2011.,  2011.])"
      ]
     },
     "execution_count": 148,
     "metadata": {},
     "output_type": "execute_result"
    }
   ],
   "source": [
    "data[:,2]"
   ]
  },
  {
   "cell_type": "code",
   "execution_count": 144,
   "metadata": {
    "collapsed": false
   },
   "outputs": [
    {
     "name": "stdout",
     "output_type": "stream",
     "text": [
      "reduced energy range\n"
     ]
    },
    {
     "data": {
      "text/plain": [
       "(array([    501.187234,     630.957344,     794.328235,    1000.      ,\n",
       "           1258.92541 ,    1584.89319 ,    1995.26231 ,    2511.88643 ,\n",
       "           3162.27766 ,    3981.07171 ,    5011.87234 ,    6309.57344 ,\n",
       "           7943.28235 ,   10000.      ,   12589.2541  ,   15848.9319  ,\n",
       "          19952.6231  ,   25118.8643  ,   31622.7766  ,   39810.7171  ,\n",
       "          50118.7234  ,   63095.7344  ,   79432.8235  ,  100000.      ,\n",
       "         125892.541   ,  158489.319   ,  199526.231   ]), 27)"
      ]
     },
     "execution_count": 144,
     "metadata": {},
     "output_type": "execute_result"
    }
   ],
   "source": [
    "print \"reduced energy range\"\n",
    "e1[7:34], len(e1[7:34])"
   ]
  },
  {
   "cell_type": "code",
   "execution_count": 145,
   "metadata": {
    "collapsed": false
   },
   "outputs": [
    {
     "name": "stdout",
     "output_type": "stream",
     "text": [
      "Chi2=355.746026718\n",
      "DOF=297\n"
     ]
    }
   ],
   "source": [
    "LogLikelihood = np.sum([np.sum(map(lambda args:poisson.logpmf(*args),zip(datahistogram[epi],expectationhistogram[epi])))\n",
    "                 for epi in range(7,34)])\n",
    "SaturatedLikelihood = np.sum([np.sum(map(lambda args:np.nan_to_num(poisson.logpmf(*args)),zip(datahistogram[epi],datahistogram[epi])))\n",
    "                 for epi in range(7,34)])\n",
    "print \"Chi2=\" + str(np.abs(2.*(LogLikelihood-SaturatedLikelihood)))\n",
    "print \"DOF=\" + str(len(range(7,34))*(len(e2)-1))"
   ]
  },
  {
   "cell_type": "code",
   "execution_count": 146,
   "metadata": {
    "collapsed": false
   },
   "outputs": [
    {
     "data": {
      "text/plain": [
       "-763.12296237491398"
      ]
     },
     "execution_count": 146,
     "metadata": {},
     "output_type": "execute_result"
    }
   ],
   "source": [
    "LogLikelihood"
   ]
  },
  {
   "cell_type": "code",
   "execution_count": 147,
   "metadata": {
    "collapsed": false
   },
   "outputs": [
    {
     "data": {
      "text/plain": [
       "-585.24994901587024"
      ]
     },
     "execution_count": 147,
     "metadata": {},
     "output_type": "execute_result"
    }
   ],
   "source": [
    "SaturatedLikelihood"
   ]
  },
  {
   "cell_type": "markdown",
   "metadata": {},
   "source": [
    "### Keeping the years separate"
   ]
  },
  {
   "cell_type": "code",
   "execution_count": 176,
   "metadata": {
    "collapsed": false
   },
   "outputs": [],
   "source": [
    "data2010 = np.array([d for d in data if d[2] == 2010])\n",
    "expectation2010 = np.array([d for d in expectation if d[2] == 2010])\n",
    "\n",
    "datahistogram2010,e1,e2 = np.histogram2d(data2010[:,0],data2010[:,1],\n",
    "                                     bins = [energy_proxy_edges,costh_edges])\n",
    "expectationhistogram2010,e1,e2 = np.histogram2d(expectation2010[:,0],expectation2010[:,1], \n",
    "                                            bins = [energy_proxy_edges,costh_edges], \n",
    "                                            weights = expectation2010[:,-1])\n",
    "\n",
    "data2011 = np.array([d for d in data if d[2] == 2011])\n",
    "expectation2011 = np.array([d for d in expectation if d[2] == 2011])\n",
    "\n",
    "datahistogram2011,e1,e2 = np.histogram2d(data2011[:,0],data2011[:,1],\n",
    "                                     bins = [energy_proxy_edges,costh_edges])\n",
    "expectationhistogram2011,e1,e2 = np.histogram2d(expectation2011[:,0],expectation2011[:,1], \n",
    "                                            bins = [energy_proxy_edges,costh_edges], \n",
    "                                            weights = expectation2011[:,-1])"
   ]
  },
  {
   "cell_type": "code",
   "execution_count": 177,
   "metadata": {
    "collapsed": false
   },
   "outputs": [
    {
     "name": "stdout",
     "output_type": "stream",
     "text": [
      "Chi2=741.762946021\n",
      "DOF=594\n"
     ]
    }
   ],
   "source": [
    "LogLikelihood = np.sum([np.sum(map(lambda args:poisson.logpmf(*args),zip(datahistogram2010[epi],expectationhistogram2010[epi])))\n",
    "                 for epi in range(7,34)])\n",
    "LogLikelihood += np.sum([np.sum(map(lambda args:poisson.logpmf(*args),zip(datahistogram2011[epi],expectationhistogram2011[epi])))\n",
    "                 for epi in range(7,34)])\n",
    "\n",
    "SaturatedLikelihood = np.sum([np.sum(map(lambda args:np.nan_to_num(poisson.logpmf(*args)),zip(datahistogram2010[epi],datahistogram2010[epi])))\n",
    "                 for epi in range(7,34)])\n",
    "SaturatedLikelihood += np.sum([np.sum(map(lambda args:np.nan_to_num(poisson.logpmf(*args)),zip(datahistogram2011[epi],datahistogram2011[epi])))\n",
    "                 for epi in range(7,34)])\n",
    "\n",
    "print \"Chi2=\" + str(np.abs(2.*(LogLikelihood-SaturatedLikelihood)))\n",
    "print \"DOF=\" + str(len(range(7,34))*(len(e2)-1)*2)"
   ]
  },
  {
   "cell_type": "code",
   "execution_count": 178,
   "metadata": {
    "collapsed": false
   },
   "outputs": [
    {
     "data": {
      "text/plain": [
       "-1374.2449016621297"
      ]
     },
     "execution_count": 178,
     "metadata": {},
     "output_type": "execute_result"
    }
   ],
   "source": [
    "LogLikelihood"
   ]
  },
  {
   "cell_type": "code",
   "execution_count": 179,
   "metadata": {
    "collapsed": false
   },
   "outputs": [
    {
     "data": {
      "text/plain": [
       "-1003.3634286517693"
      ]
     },
     "execution_count": 179,
     "metadata": {},
     "output_type": "execute_result"
    }
   ],
   "source": [
    "SaturatedLikelihood"
   ]
  },
  {
   "cell_type": "markdown",
   "metadata": {
    "collapsed": true,
    "heading_collapsed": true
   },
   "source": [
    "## Compare nuSQuIDS Flux versus Chris-given Flux"
   ]
  },
  {
   "cell_type": "code",
   "execution_count": 2,
   "metadata": {
    "code_folding": [
     0
    ],
    "collapsed": true,
    "hidden": true
   },
   "outputs": [],
   "source": [
    "# includes\n",
    "import nuSQUIDSpy as nsq\n",
    "import tables\n",
    "import scipy.interpolate as interpolate\n",
    "import scipy.integrate as integrate"
   ]
  },
  {
   "cell_type": "code",
   "execution_count": 3,
   "metadata": {
    "collapsed": false,
    "hidden": true
   },
   "outputs": [],
   "source": [
    "kaon = nsq.nuSQUIDSAtm(\"../nusquids_fluxes/nusquids_kaon_HondaGaisser.hdf5\")"
   ]
  },
  {
   "cell_type": "code",
   "execution_count": 4,
   "metadata": {
    "collapsed": true,
    "hidden": true
   },
   "outputs": [],
   "source": [
    "pion = nsq.nuSQUIDSAtm(\"../nusquids_fluxes/nusquids_pion_HondaGaisser.hdf5\")"
   ]
  },
  {
   "cell_type": "code",
   "execution_count": 5,
   "metadata": {
    "collapsed": false,
    "hidden": true
   },
   "outputs": [],
   "source": [
    "kaon_flux = np.array([ kaon.EvalFlavor(1,-1,EE,0) for EE in kaon.GetERange()])\n",
    "pion_flux = np.array([ pion.EvalFlavor(1,-1,EE,0) for EE in kaon.GetERange()])\n",
    "flux = kaon_flux*1.2+pion_flux"
   ]
  },
  {
   "cell_type": "code",
   "execution_count": 6,
   "metadata": {
    "collapsed": false,
    "hidden": true
   },
   "outputs": [
    {
     "data": {
      "text/plain": [
       "[]"
      ]
     },
     "execution_count": 6,
     "metadata": {},
     "output_type": "execute_result"
    },
    {
     "data": {
      "image/png": "[encoded data removed]",
      "text/plain": [
       "<matplotlib.figure.Figure at 0x10ee55e50>"
      ]
     },
     "metadata": {},
     "output_type": "display_data"
    }
   ],
   "source": [
    "plt.plot(kaon.GetERange(),flux)\n",
    "plt.loglog()"
   ]
  },
  {
   "cell_type": "code",
   "execution_count": 7,
   "metadata": {
    "collapsed": false,
    "hidden": true
   },
   "outputs": [],
   "source": [
    "# weaver flux\n",
    "weaver_flux = tables.open_file(\"../conventional_flux.h5\", driver=\"H5FD_CORE\")"
   ]
  },
  {
   "cell_type": "code",
   "execution_count": 8,
   "metadata": {
    "collapsed": false,
    "hidden": true
   },
   "outputs": [
    {
     "data": {
      "text/plain": [
       "1.4140311346582058e-07"
      ]
     },
     "execution_count": 8,
     "metadata": {},
     "output_type": "execute_result"
    }
   ],
   "source": [
    "weaver_flux.root.nu_mu.integrated_flux[:,0][0]"
   ]
  },
  {
   "cell_type": "code",
   "execution_count": 25,
   "metadata": {
    "collapsed": false,
    "hidden": true
   },
   "outputs": [
    {
     "data": {
      "text/plain": [
       "0.6283185307179586"
      ]
     },
     "execution_count": 25,
     "metadata": {},
     "output_type": "execute_result"
    }
   ],
   "source": [
    "2.*np.pi*0.1"
   ]
  },
  {
   "cell_type": "code",
   "execution_count": 11,
   "metadata": {
    "collapsed": false,
    "hidden": true
   },
   "outputs": [],
   "source": [
    "e_edges = weaver_flux.root.nu_mu.bin_edges_0[:]\n",
    "integrated_fluxes = 2.*np.pi*0.1*np.array([integrate.quad(interpolate.interp1d(kaon.GetERange()/1.0e9,flux),e_edges[i],e_edges[i+1]) for i in range(0,60)]) "
   ]
  },
  {
   "cell_type": "code",
   "execution_count": 12,
   "metadata": {
    "collapsed": false,
    "hidden": true
   },
   "outputs": [
    {
     "data": {
      "text/plain": [
       "[<matplotlib.lines.Line2D at 0x10f58a090>]"
      ]
     },
     "execution_count": 12,
     "metadata": {},
     "output_type": "execute_result"
    },
    {
     "data": {
      "image/png": "[encoded data removed]",
      "text/plain": [
       "<matplotlib.figure.Figure at 0x10f5f4210>"
      ]
     },
     "metadata": {},
     "output_type": "display_data"
    }
   ],
   "source": [
    "plt.plot(weaver_flux.root.nu_mu.bin_edges_0[0:60],\n",
    "         weaver_flux.root.nu_mu.integrated_flux[:,0][0:60]/integrated_fluxes[:,0])"
   ]
  },
  {
   "cell_type": "code",
   "execution_count": 21,
   "metadata": {
    "collapsed": false,
    "hidden": true
   },
   "outputs": [
    {
     "data": {
      "text/plain": [
       "array([-1. , -0.9, -0.8, -0.7, -0.6, -0.5, -0.4, -0.3, -0.2, -0.1,  0. ,\n",
       "        0.1])"
      ]
     },
     "execution_count": 21,
     "metadata": {},
     "output_type": "execute_result"
    }
   ],
   "source": [
    "weaver_flux.root.nu_mu.bin_edges_1[:]"
   ]
  },
  {
   "cell_type": "code",
   "execution_count": 27,
   "metadata": {
    "collapsed": false,
    "hidden": true
   },
   "outputs": [
    {
     "data": {
      "text/plain": [
       "array([  1.00000000e+02,   1.05925373e+02,   1.12201845e+02,\n",
       "         1.18850223e+02,   1.25892541e+02,   1.33352143e+02,\n",
       "         1.41253754e+02,   1.49623566e+02,   1.58489319e+02,\n",
       "         1.67880402e+02,   1.77827941e+02,   1.88364909e+02,\n",
       "         1.99526231e+02,   2.11348904e+02,   2.23872114e+02,\n",
       "         2.37137371e+02,   2.51188643e+02,   2.66072506e+02,\n",
       "         2.81838293e+02,   2.98538262e+02,   3.16227766e+02,\n",
       "         3.34965439e+02,   3.54813389e+02,   3.75837404e+02,\n",
       "         3.98107171e+02,   4.21696503e+02,   4.46683592e+02,\n",
       "         4.73151259e+02,   5.01187234e+02,   5.30884444e+02,\n",
       "         5.62341325e+02,   5.95662144e+02,   6.30957344e+02,\n",
       "         6.68343918e+02,   7.07945784e+02,   7.49894209e+02,\n",
       "         7.94328235e+02,   8.41395142e+02,   8.91250938e+02,\n",
       "         9.44060876e+02,   1.00000000e+03,   1.05925373e+03,\n",
       "         1.12201845e+03,   1.18850223e+03,   1.25892541e+03,\n",
       "         1.33352143e+03,   1.41253754e+03,   1.49623566e+03,\n",
       "         1.58489319e+03,   1.67880402e+03,   1.77827941e+03,\n",
       "         1.88364909e+03,   1.99526231e+03,   2.11348904e+03,\n",
       "         2.23872114e+03,   2.37137371e+03,   2.51188643e+03,\n",
       "         2.66072506e+03,   2.81838293e+03,   2.98538262e+03,\n",
       "         3.16227766e+03,   3.34965439e+03,   3.54813389e+03,\n",
       "         3.75837404e+03,   3.98107171e+03,   4.21696503e+03,\n",
       "         4.46683592e+03,   4.73151259e+03,   5.01187234e+03,\n",
       "         5.30884444e+03,   5.62341325e+03,   5.95662144e+03,\n",
       "         6.30957344e+03,   6.68343918e+03,   7.07945784e+03,\n",
       "         7.49894209e+03,   7.94328235e+03,   8.41395142e+03,\n",
       "         8.91250938e+03,   9.44060876e+03,   1.00000000e+04,\n",
       "         1.05925373e+04,   1.12201845e+04,   1.18850223e+04,\n",
       "         1.25892541e+04,   1.33352143e+04,   1.41253754e+04,\n",
       "         1.49623566e+04,   1.58489319e+04,   1.67880402e+04,\n",
       "         1.77827941e+04,   1.88364909e+04,   1.99526231e+04,\n",
       "         2.11348904e+04,   2.23872114e+04,   2.37137371e+04,\n",
       "         2.51188643e+04,   2.66072506e+04,   2.81838293e+04,\n",
       "         2.98538262e+04,   3.16227766e+04,   3.34965439e+04,\n",
       "         3.54813389e+04,   3.75837404e+04,   3.98107171e+04,\n",
       "         4.21696503e+04,   4.46683592e+04,   4.73151259e+04,\n",
       "         5.01187234e+04,   5.30884444e+04,   5.62341325e+04,\n",
       "         5.95662144e+04,   6.30957344e+04,   6.68343918e+04,\n",
       "         7.07945784e+04,   7.49894209e+04,   7.94328235e+04,\n",
       "         8.41395142e+04,   8.91250938e+04,   9.44060876e+04,\n",
       "         1.00000000e+05,   1.05925373e+05,   1.12201845e+05,\n",
       "         1.18850223e+05,   1.25892541e+05,   1.33352143e+05,\n",
       "         1.41253754e+05,   1.49623566e+05,   1.58489319e+05,\n",
       "         1.67880402e+05,   1.77827941e+05,   1.88364909e+05,\n",
       "         1.99526231e+05,   2.11348904e+05,   2.23872114e+05,\n",
       "         2.37137371e+05,   2.51188643e+05,   2.66072506e+05,\n",
       "         2.81838293e+05,   2.98538262e+05,   3.16227766e+05,\n",
       "         3.34965439e+05,   3.54813389e+05,   3.75837404e+05,\n",
       "         3.98107171e+05,   4.21696503e+05,   4.46683592e+05,\n",
       "         4.73151259e+05,   5.01187234e+05,   5.30884444e+05,\n",
       "         5.62341325e+05,   5.95662144e+05,   6.30957344e+05,\n",
       "         6.68343918e+05,   7.07945784e+05,   7.49894209e+05,\n",
       "         7.94328235e+05,   8.41395142e+05,   8.91250938e+05,\n",
       "         9.44060876e+05,   1.00000000e+06,   1.05925373e+06,\n",
       "         1.12201845e+06,   1.18850223e+06,   1.25892541e+06,\n",
       "         1.33352143e+06,   1.41253754e+06,   1.49623566e+06,\n",
       "         1.58489319e+06,   1.67880402e+06,   1.77827941e+06,\n",
       "         1.88364909e+06,   1.99526231e+06,   2.11348904e+06,\n",
       "         2.23872114e+06,   2.37137371e+06,   2.51188643e+06,\n",
       "         2.66072506e+06,   2.81838293e+06,   2.98538262e+06,\n",
       "         3.16227766e+06,   3.34965439e+06,   3.54813389e+06,\n",
       "         3.75837404e+06,   3.98107171e+06,   4.21696503e+06,\n",
       "         4.46683592e+06,   4.73151259e+06,   5.01187234e+06,\n",
       "         5.30884444e+06,   5.62341325e+06,   5.95662144e+06,\n",
       "         6.30957344e+06,   6.68343918e+06,   7.07945784e+06,\n",
       "         7.49894209e+06,   7.94328235e+06,   8.41395142e+06,\n",
       "         8.91250938e+06,   9.44060876e+06,   1.00000000e+07,\n",
       "         1.05925373e+07,   1.12201845e+07,   1.18850223e+07,\n",
       "         1.25892541e+07,   1.33352143e+07,   1.41253754e+07,\n",
       "         1.49623566e+07,   1.58489319e+07,   1.67880402e+07,\n",
       "         1.77827941e+07,   1.88364909e+07,   1.99526231e+07,\n",
       "         2.11348904e+07,   2.23872114e+07,   2.37137371e+07,\n",
       "         2.51188643e+07,   2.66072506e+07,   2.81838293e+07,\n",
       "         2.98538262e+07,   3.16227766e+07,   3.34965439e+07,\n",
       "         3.54813389e+07,   3.75837404e+07,   3.98107171e+07,\n",
       "         4.21696503e+07,   4.46683592e+07,   4.73151259e+07,\n",
       "         5.01187234e+07,   5.30884444e+07,   5.62341325e+07,\n",
       "         5.95662144e+07,   6.30957344e+07,   6.68343918e+07,\n",
       "         7.07945784e+07,   7.49894209e+07,   7.94328235e+07,\n",
       "         8.41395142e+07,   8.91250938e+07,   9.44060876e+07,\n",
       "         1.00000000e+08,   1.05925373e+08,   1.12201845e+08,\n",
       "         1.18850223e+08,   1.25892541e+08,   1.33352143e+08,\n",
       "         1.41253754e+08,   1.49623566e+08,   1.58489319e+08,\n",
       "         1.67880402e+08,   1.77827941e+08,   1.88364909e+08,\n",
       "         1.99526231e+08,   2.11348904e+08,   2.23872114e+08,\n",
       "         2.37137371e+08,   2.51188643e+08,   2.66072506e+08,\n",
       "         2.81838293e+08,   2.98538262e+08,   3.16227766e+08,\n",
       "         3.34965439e+08,   3.54813389e+08,   3.75837404e+08,\n",
       "         3.98107171e+08,   4.21696503e+08,   4.46683592e+08,\n",
       "         4.73151259e+08,   5.01187234e+08,   5.30884444e+08,\n",
       "         5.62341325e+08,   5.95662144e+08,   6.30957344e+08,\n",
       "         6.68343918e+08,   7.07945784e+08,   7.49894209e+08,\n",
       "         7.94328235e+08,   8.41395142e+08,   8.91250938e+08,\n",
       "         9.44060876e+08,   1.00000000e+09])"
      ]
     },
     "execution_count": 27,
     "metadata": {},
     "output_type": "execute_result"
    }
   ],
   "source": [
    "weaver_flux.root.nu_mu.bin_edges_0[:]"
   ]
  },
  {
   "cell_type": "code",
   "execution_count": null,
   "metadata": {
    "collapsed": true,
    "hidden": true
   },
   "outputs": [],
   "source": []
  }
 ],
 "metadata": {
  "kernelspec": {
   "display_name": "Python 2",
   "language": "python",
   "name": "python2"
  },
  "language_info": {
   "codemirror_mode": {
    "name": "ipython",
    "version": 2
   },
   "file_extension": ".py",
   "mimetype": "text/x-python",
   "name": "python",
   "nbconvert_exporter": "python",
   "pygments_lexer": "ipython2",
   "version": "2.7.10"
  }
 },
 "nbformat": 4,
 "nbformat_minor": 0
}
